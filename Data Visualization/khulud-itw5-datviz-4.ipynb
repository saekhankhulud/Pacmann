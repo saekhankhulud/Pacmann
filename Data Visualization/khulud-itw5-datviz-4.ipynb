{
 "cells": [
  {
   "cell_type": "markdown",
   "metadata": {
    "id": "nKmQY42sCS9p"
   },
   "source": [
    "# Tugas Data Visualization 4\n",
    "\n",
    "* Silakan download dan kerjakan soal berikut dimanapun (laptop pribadi/google colab/etc.)\n",
    "* Setelah selesai mengerjakan, upload file ini di tempat yang telah disediakan pada platform.\n",
    "* Beri nama file seperti berikut: {username}-dataviz-4.ipynb\n",
    "* Contoh: johndoe-ab12-dataviz-4.ipynb\n",
    "* Tutorial: https://discourse.pacmann.ai/t/pengumuman-seluruh-platform-pacmann-ai/409\n",
    "* Username dapat dilihat di dalam akun anda.\n",
    "* Mohon jangan mengubah nama variabel yang telah diberikan.\n",
    "* Namun anda diperbolehkan untuk menambah variabel apapun.\n",
    "---"
   ]
  },
  {
   "cell_type": "markdown",
   "metadata": {
    "id": "p7sZoO1LfoV_"
   },
   "source": [
    "# Pendahuluan\n",
    "\n",
    "Seperti yang telah dipelajari di dalam kelas, dalam tugas kali ini, Anda diminta untuk melakukan EDA pada [dataset \"Housing Price\"](https://www.kaggle.com/c/house-prices-advanced-regression-techniques/data) menggunakan teknik visualisasi 1D dan 2D. Dataset \"Housing Price\" berisi berbagai informasi mengenai properti-properti yang dijual, misalnya zona lokasi, jumlah kamar tidur, ukuran tanah, dll."
   ]
  },
  {
   "cell_type": "markdown",
   "metadata": {
    "id": "A2u9hR78h_eQ"
   },
   "source": [
    "# Data Preparation"
   ]
  },
  {
   "cell_type": "code",
   "execution_count": 1,
   "metadata": {
    "id": "McePNz2WR-ir"
   },
   "outputs": [],
   "source": [
    "import pandas as pd\n",
    "import numpy as np\n",
    "import seaborn as sns\n",
    "%matplotlib inline\n",
    "import matplotlib.pyplot as plt\n",
    "import statistics as stats\n",
    "\n",
    "import warnings\n",
    "warnings.simplefilter(action='ignore', category=FutureWarning)"
   ]
  },
  {
   "cell_type": "code",
   "execution_count": 2,
   "metadata": {
    "colab": {
     "base_uri": "https://localhost:8080/"
    },
    "executionInfo": {
     "elapsed": 1817,
     "status": "ok",
     "timestamp": 1605877959165,
     "user": {
      "displayName": "Nikita Setyagar",
      "photoUrl": "",
      "userId": "11963739043015391724"
     },
     "user_tz": -420
    },
    "id": "nyVm2NWLvtEO",
    "outputId": "c13661a6-f23f-44aa-bb03-c728a67445e4"
   },
   "outputs": [
    {
     "name": "stdout",
     "output_type": "stream",
     "text": [
      "Jumlah variabel = 80\n"
     ]
    }
   ],
   "source": [
    "# Import data -- Silakan diganti jika Anda bekerja di direktori lain\n",
    "house = pd.read_csv('data/train_house.csv', index_col=0)\n",
    "print('Jumlah variabel =', len(house.columns))"
   ]
  },
  {
   "cell_type": "markdown",
   "metadata": {
    "id": "nPD4xWuY0VjR"
   },
   "source": [
    "Seperti yang dapat diamati, terdapat 80 variabel dalam dataset ini. Untuk itu, kita harus mengetahui makna dari tiap-tiap variabel tersebut supaya kita dapat memilih variabel mana saja yang akan kita pakai dalam analisis kita.\n",
    "\n",
    "Deskripsi lengkap dari seluruh variabel yang ada dapat dilihat dari [penyedia data](https://www.kaggle.com/c/house-prices-advanced-regression-techniques/data) pada bagian data description."
   ]
  },
  {
   "cell_type": "code",
   "execution_count": 3,
   "metadata": {
    "id": "vqXZOtHK2fXd"
   },
   "outputs": [],
   "source": [
    "# Drop variabel NaN -- jangan diganti!\n",
    "house = house.dropna(axis=1)"
   ]
  },
  {
   "cell_type": "code",
   "execution_count": 4,
   "metadata": {
    "id": "1hlZDunc3XtB"
   },
   "outputs": [],
   "source": [
    "# Memisahkan data menjadi numerikal & kategorikal -- jangan diganti!\n",
    "num_cols = house._get_numeric_data().columns\n",
    "house_numerical = house[num_cols]\n",
    "house_categorical = house.drop(num_cols, axis = 1)"
   ]
  },
  {
   "cell_type": "code",
   "execution_count": 5,
   "metadata": {},
   "outputs": [
    {
     "data": {
      "text/html": [
       "<div>\n",
       "<style scoped>\n",
       "    .dataframe tbody tr th:only-of-type {\n",
       "        vertical-align: middle;\n",
       "    }\n",
       "\n",
       "    .dataframe tbody tr th {\n",
       "        vertical-align: top;\n",
       "    }\n",
       "\n",
       "    .dataframe thead th {\n",
       "        text-align: right;\n",
       "    }\n",
       "</style>\n",
       "<table border=\"1\" class=\"dataframe\">\n",
       "  <thead>\n",
       "    <tr style=\"text-align: right;\">\n",
       "      <th></th>\n",
       "      <th>count</th>\n",
       "      <th>mean</th>\n",
       "      <th>std</th>\n",
       "      <th>min</th>\n",
       "      <th>25%</th>\n",
       "      <th>50%</th>\n",
       "      <th>75%</th>\n",
       "      <th>max</th>\n",
       "    </tr>\n",
       "  </thead>\n",
       "  <tbody>\n",
       "    <tr>\n",
       "      <th>MSSubClass</th>\n",
       "      <td>1460.0</td>\n",
       "      <td>56.897260</td>\n",
       "      <td>42.300571</td>\n",
       "      <td>20.0</td>\n",
       "      <td>20.00</td>\n",
       "      <td>50.0</td>\n",
       "      <td>70.00</td>\n",
       "      <td>190.0</td>\n",
       "    </tr>\n",
       "    <tr>\n",
       "      <th>LotArea</th>\n",
       "      <td>1460.0</td>\n",
       "      <td>10516.828082</td>\n",
       "      <td>9981.264932</td>\n",
       "      <td>1300.0</td>\n",
       "      <td>7553.50</td>\n",
       "      <td>9478.5</td>\n",
       "      <td>11601.50</td>\n",
       "      <td>215245.0</td>\n",
       "    </tr>\n",
       "    <tr>\n",
       "      <th>OverallQual</th>\n",
       "      <td>1460.0</td>\n",
       "      <td>6.099315</td>\n",
       "      <td>1.382997</td>\n",
       "      <td>1.0</td>\n",
       "      <td>5.00</td>\n",
       "      <td>6.0</td>\n",
       "      <td>7.00</td>\n",
       "      <td>10.0</td>\n",
       "    </tr>\n",
       "    <tr>\n",
       "      <th>OverallCond</th>\n",
       "      <td>1460.0</td>\n",
       "      <td>5.575342</td>\n",
       "      <td>1.112799</td>\n",
       "      <td>1.0</td>\n",
       "      <td>5.00</td>\n",
       "      <td>5.0</td>\n",
       "      <td>6.00</td>\n",
       "      <td>9.0</td>\n",
       "    </tr>\n",
       "    <tr>\n",
       "      <th>YearBuilt</th>\n",
       "      <td>1460.0</td>\n",
       "      <td>1971.267808</td>\n",
       "      <td>30.202904</td>\n",
       "      <td>1872.0</td>\n",
       "      <td>1954.00</td>\n",
       "      <td>1973.0</td>\n",
       "      <td>2000.00</td>\n",
       "      <td>2010.0</td>\n",
       "    </tr>\n",
       "    <tr>\n",
       "      <th>YearRemodAdd</th>\n",
       "      <td>1460.0</td>\n",
       "      <td>1984.865753</td>\n",
       "      <td>20.645407</td>\n",
       "      <td>1950.0</td>\n",
       "      <td>1967.00</td>\n",
       "      <td>1994.0</td>\n",
       "      <td>2004.00</td>\n",
       "      <td>2010.0</td>\n",
       "    </tr>\n",
       "    <tr>\n",
       "      <th>BsmtFinSF1</th>\n",
       "      <td>1460.0</td>\n",
       "      <td>443.639726</td>\n",
       "      <td>456.098091</td>\n",
       "      <td>0.0</td>\n",
       "      <td>0.00</td>\n",
       "      <td>383.5</td>\n",
       "      <td>712.25</td>\n",
       "      <td>5644.0</td>\n",
       "    </tr>\n",
       "    <tr>\n",
       "      <th>BsmtFinSF2</th>\n",
       "      <td>1460.0</td>\n",
       "      <td>46.549315</td>\n",
       "      <td>161.319273</td>\n",
       "      <td>0.0</td>\n",
       "      <td>0.00</td>\n",
       "      <td>0.0</td>\n",
       "      <td>0.00</td>\n",
       "      <td>1474.0</td>\n",
       "    </tr>\n",
       "    <tr>\n",
       "      <th>BsmtUnfSF</th>\n",
       "      <td>1460.0</td>\n",
       "      <td>567.240411</td>\n",
       "      <td>441.866955</td>\n",
       "      <td>0.0</td>\n",
       "      <td>223.00</td>\n",
       "      <td>477.5</td>\n",
       "      <td>808.00</td>\n",
       "      <td>2336.0</td>\n",
       "    </tr>\n",
       "    <tr>\n",
       "      <th>TotalBsmtSF</th>\n",
       "      <td>1460.0</td>\n",
       "      <td>1057.429452</td>\n",
       "      <td>438.705324</td>\n",
       "      <td>0.0</td>\n",
       "      <td>795.75</td>\n",
       "      <td>991.5</td>\n",
       "      <td>1298.25</td>\n",
       "      <td>6110.0</td>\n",
       "    </tr>\n",
       "    <tr>\n",
       "      <th>1stFlrSF</th>\n",
       "      <td>1460.0</td>\n",
       "      <td>1162.626712</td>\n",
       "      <td>386.587738</td>\n",
       "      <td>334.0</td>\n",
       "      <td>882.00</td>\n",
       "      <td>1087.0</td>\n",
       "      <td>1391.25</td>\n",
       "      <td>4692.0</td>\n",
       "    </tr>\n",
       "    <tr>\n",
       "      <th>2ndFlrSF</th>\n",
       "      <td>1460.0</td>\n",
       "      <td>346.992466</td>\n",
       "      <td>436.528436</td>\n",
       "      <td>0.0</td>\n",
       "      <td>0.00</td>\n",
       "      <td>0.0</td>\n",
       "      <td>728.00</td>\n",
       "      <td>2065.0</td>\n",
       "    </tr>\n",
       "    <tr>\n",
       "      <th>LowQualFinSF</th>\n",
       "      <td>1460.0</td>\n",
       "      <td>5.844521</td>\n",
       "      <td>48.623081</td>\n",
       "      <td>0.0</td>\n",
       "      <td>0.00</td>\n",
       "      <td>0.0</td>\n",
       "      <td>0.00</td>\n",
       "      <td>572.0</td>\n",
       "    </tr>\n",
       "    <tr>\n",
       "      <th>GrLivArea</th>\n",
       "      <td>1460.0</td>\n",
       "      <td>1515.463699</td>\n",
       "      <td>525.480383</td>\n",
       "      <td>334.0</td>\n",
       "      <td>1129.50</td>\n",
       "      <td>1464.0</td>\n",
       "      <td>1776.75</td>\n",
       "      <td>5642.0</td>\n",
       "    </tr>\n",
       "    <tr>\n",
       "      <th>BsmtFullBath</th>\n",
       "      <td>1460.0</td>\n",
       "      <td>0.425342</td>\n",
       "      <td>0.518911</td>\n",
       "      <td>0.0</td>\n",
       "      <td>0.00</td>\n",
       "      <td>0.0</td>\n",
       "      <td>1.00</td>\n",
       "      <td>3.0</td>\n",
       "    </tr>\n",
       "    <tr>\n",
       "      <th>BsmtHalfBath</th>\n",
       "      <td>1460.0</td>\n",
       "      <td>0.057534</td>\n",
       "      <td>0.238753</td>\n",
       "      <td>0.0</td>\n",
       "      <td>0.00</td>\n",
       "      <td>0.0</td>\n",
       "      <td>0.00</td>\n",
       "      <td>2.0</td>\n",
       "    </tr>\n",
       "    <tr>\n",
       "      <th>FullBath</th>\n",
       "      <td>1460.0</td>\n",
       "      <td>1.565068</td>\n",
       "      <td>0.550916</td>\n",
       "      <td>0.0</td>\n",
       "      <td>1.00</td>\n",
       "      <td>2.0</td>\n",
       "      <td>2.00</td>\n",
       "      <td>3.0</td>\n",
       "    </tr>\n",
       "    <tr>\n",
       "      <th>HalfBath</th>\n",
       "      <td>1460.0</td>\n",
       "      <td>0.382877</td>\n",
       "      <td>0.502885</td>\n",
       "      <td>0.0</td>\n",
       "      <td>0.00</td>\n",
       "      <td>0.0</td>\n",
       "      <td>1.00</td>\n",
       "      <td>2.0</td>\n",
       "    </tr>\n",
       "    <tr>\n",
       "      <th>BedroomAbvGr</th>\n",
       "      <td>1460.0</td>\n",
       "      <td>2.866438</td>\n",
       "      <td>0.815778</td>\n",
       "      <td>0.0</td>\n",
       "      <td>2.00</td>\n",
       "      <td>3.0</td>\n",
       "      <td>3.00</td>\n",
       "      <td>8.0</td>\n",
       "    </tr>\n",
       "    <tr>\n",
       "      <th>KitchenAbvGr</th>\n",
       "      <td>1460.0</td>\n",
       "      <td>1.046575</td>\n",
       "      <td>0.220338</td>\n",
       "      <td>0.0</td>\n",
       "      <td>1.00</td>\n",
       "      <td>1.0</td>\n",
       "      <td>1.00</td>\n",
       "      <td>3.0</td>\n",
       "    </tr>\n",
       "    <tr>\n",
       "      <th>TotRmsAbvGrd</th>\n",
       "      <td>1460.0</td>\n",
       "      <td>6.517808</td>\n",
       "      <td>1.625393</td>\n",
       "      <td>2.0</td>\n",
       "      <td>5.00</td>\n",
       "      <td>6.0</td>\n",
       "      <td>7.00</td>\n",
       "      <td>14.0</td>\n",
       "    </tr>\n",
       "    <tr>\n",
       "      <th>Fireplaces</th>\n",
       "      <td>1460.0</td>\n",
       "      <td>0.613014</td>\n",
       "      <td>0.644666</td>\n",
       "      <td>0.0</td>\n",
       "      <td>0.00</td>\n",
       "      <td>1.0</td>\n",
       "      <td>1.00</td>\n",
       "      <td>3.0</td>\n",
       "    </tr>\n",
       "    <tr>\n",
       "      <th>GarageCars</th>\n",
       "      <td>1460.0</td>\n",
       "      <td>1.767123</td>\n",
       "      <td>0.747315</td>\n",
       "      <td>0.0</td>\n",
       "      <td>1.00</td>\n",
       "      <td>2.0</td>\n",
       "      <td>2.00</td>\n",
       "      <td>4.0</td>\n",
       "    </tr>\n",
       "    <tr>\n",
       "      <th>GarageArea</th>\n",
       "      <td>1460.0</td>\n",
       "      <td>472.980137</td>\n",
       "      <td>213.804841</td>\n",
       "      <td>0.0</td>\n",
       "      <td>334.50</td>\n",
       "      <td>480.0</td>\n",
       "      <td>576.00</td>\n",
       "      <td>1418.0</td>\n",
       "    </tr>\n",
       "    <tr>\n",
       "      <th>WoodDeckSF</th>\n",
       "      <td>1460.0</td>\n",
       "      <td>94.244521</td>\n",
       "      <td>125.338794</td>\n",
       "      <td>0.0</td>\n",
       "      <td>0.00</td>\n",
       "      <td>0.0</td>\n",
       "      <td>168.00</td>\n",
       "      <td>857.0</td>\n",
       "    </tr>\n",
       "    <tr>\n",
       "      <th>OpenPorchSF</th>\n",
       "      <td>1460.0</td>\n",
       "      <td>46.660274</td>\n",
       "      <td>66.256028</td>\n",
       "      <td>0.0</td>\n",
       "      <td>0.00</td>\n",
       "      <td>25.0</td>\n",
       "      <td>68.00</td>\n",
       "      <td>547.0</td>\n",
       "    </tr>\n",
       "    <tr>\n",
       "      <th>EnclosedPorch</th>\n",
       "      <td>1460.0</td>\n",
       "      <td>21.954110</td>\n",
       "      <td>61.119149</td>\n",
       "      <td>0.0</td>\n",
       "      <td>0.00</td>\n",
       "      <td>0.0</td>\n",
       "      <td>0.00</td>\n",
       "      <td>552.0</td>\n",
       "    </tr>\n",
       "    <tr>\n",
       "      <th>3SsnPorch</th>\n",
       "      <td>1460.0</td>\n",
       "      <td>3.409589</td>\n",
       "      <td>29.317331</td>\n",
       "      <td>0.0</td>\n",
       "      <td>0.00</td>\n",
       "      <td>0.0</td>\n",
       "      <td>0.00</td>\n",
       "      <td>508.0</td>\n",
       "    </tr>\n",
       "    <tr>\n",
       "      <th>ScreenPorch</th>\n",
       "      <td>1460.0</td>\n",
       "      <td>15.060959</td>\n",
       "      <td>55.757415</td>\n",
       "      <td>0.0</td>\n",
       "      <td>0.00</td>\n",
       "      <td>0.0</td>\n",
       "      <td>0.00</td>\n",
       "      <td>480.0</td>\n",
       "    </tr>\n",
       "    <tr>\n",
       "      <th>PoolArea</th>\n",
       "      <td>1460.0</td>\n",
       "      <td>2.758904</td>\n",
       "      <td>40.177307</td>\n",
       "      <td>0.0</td>\n",
       "      <td>0.00</td>\n",
       "      <td>0.0</td>\n",
       "      <td>0.00</td>\n",
       "      <td>738.0</td>\n",
       "    </tr>\n",
       "    <tr>\n",
       "      <th>MiscVal</th>\n",
       "      <td>1460.0</td>\n",
       "      <td>43.489041</td>\n",
       "      <td>496.123024</td>\n",
       "      <td>0.0</td>\n",
       "      <td>0.00</td>\n",
       "      <td>0.0</td>\n",
       "      <td>0.00</td>\n",
       "      <td>15500.0</td>\n",
       "    </tr>\n",
       "    <tr>\n",
       "      <th>MoSold</th>\n",
       "      <td>1460.0</td>\n",
       "      <td>6.321918</td>\n",
       "      <td>2.703626</td>\n",
       "      <td>1.0</td>\n",
       "      <td>5.00</td>\n",
       "      <td>6.0</td>\n",
       "      <td>8.00</td>\n",
       "      <td>12.0</td>\n",
       "    </tr>\n",
       "    <tr>\n",
       "      <th>YrSold</th>\n",
       "      <td>1460.0</td>\n",
       "      <td>2007.815753</td>\n",
       "      <td>1.328095</td>\n",
       "      <td>2006.0</td>\n",
       "      <td>2007.00</td>\n",
       "      <td>2008.0</td>\n",
       "      <td>2009.00</td>\n",
       "      <td>2010.0</td>\n",
       "    </tr>\n",
       "    <tr>\n",
       "      <th>SalePrice</th>\n",
       "      <td>1460.0</td>\n",
       "      <td>180921.195890</td>\n",
       "      <td>79442.502883</td>\n",
       "      <td>34900.0</td>\n",
       "      <td>129975.00</td>\n",
       "      <td>163000.0</td>\n",
       "      <td>214000.00</td>\n",
       "      <td>755000.0</td>\n",
       "    </tr>\n",
       "  </tbody>\n",
       "</table>\n",
       "</div>"
      ],
      "text/plain": [
       "                count           mean           std      min        25%  \\\n",
       "MSSubClass     1460.0      56.897260     42.300571     20.0      20.00   \n",
       "LotArea        1460.0   10516.828082   9981.264932   1300.0    7553.50   \n",
       "OverallQual    1460.0       6.099315      1.382997      1.0       5.00   \n",
       "OverallCond    1460.0       5.575342      1.112799      1.0       5.00   \n",
       "YearBuilt      1460.0    1971.267808     30.202904   1872.0    1954.00   \n",
       "YearRemodAdd   1460.0    1984.865753     20.645407   1950.0    1967.00   \n",
       "BsmtFinSF1     1460.0     443.639726    456.098091      0.0       0.00   \n",
       "BsmtFinSF2     1460.0      46.549315    161.319273      0.0       0.00   \n",
       "BsmtUnfSF      1460.0     567.240411    441.866955      0.0     223.00   \n",
       "TotalBsmtSF    1460.0    1057.429452    438.705324      0.0     795.75   \n",
       "1stFlrSF       1460.0    1162.626712    386.587738    334.0     882.00   \n",
       "2ndFlrSF       1460.0     346.992466    436.528436      0.0       0.00   \n",
       "LowQualFinSF   1460.0       5.844521     48.623081      0.0       0.00   \n",
       "GrLivArea      1460.0    1515.463699    525.480383    334.0    1129.50   \n",
       "BsmtFullBath   1460.0       0.425342      0.518911      0.0       0.00   \n",
       "BsmtHalfBath   1460.0       0.057534      0.238753      0.0       0.00   \n",
       "FullBath       1460.0       1.565068      0.550916      0.0       1.00   \n",
       "HalfBath       1460.0       0.382877      0.502885      0.0       0.00   \n",
       "BedroomAbvGr   1460.0       2.866438      0.815778      0.0       2.00   \n",
       "KitchenAbvGr   1460.0       1.046575      0.220338      0.0       1.00   \n",
       "TotRmsAbvGrd   1460.0       6.517808      1.625393      2.0       5.00   \n",
       "Fireplaces     1460.0       0.613014      0.644666      0.0       0.00   \n",
       "GarageCars     1460.0       1.767123      0.747315      0.0       1.00   \n",
       "GarageArea     1460.0     472.980137    213.804841      0.0     334.50   \n",
       "WoodDeckSF     1460.0      94.244521    125.338794      0.0       0.00   \n",
       "OpenPorchSF    1460.0      46.660274     66.256028      0.0       0.00   \n",
       "EnclosedPorch  1460.0      21.954110     61.119149      0.0       0.00   \n",
       "3SsnPorch      1460.0       3.409589     29.317331      0.0       0.00   \n",
       "ScreenPorch    1460.0      15.060959     55.757415      0.0       0.00   \n",
       "PoolArea       1460.0       2.758904     40.177307      0.0       0.00   \n",
       "MiscVal        1460.0      43.489041    496.123024      0.0       0.00   \n",
       "MoSold         1460.0       6.321918      2.703626      1.0       5.00   \n",
       "YrSold         1460.0    2007.815753      1.328095   2006.0    2007.00   \n",
       "SalePrice      1460.0  180921.195890  79442.502883  34900.0  129975.00   \n",
       "\n",
       "                    50%        75%       max  \n",
       "MSSubClass         50.0      70.00     190.0  \n",
       "LotArea          9478.5   11601.50  215245.0  \n",
       "OverallQual         6.0       7.00      10.0  \n",
       "OverallCond         5.0       6.00       9.0  \n",
       "YearBuilt        1973.0    2000.00    2010.0  \n",
       "YearRemodAdd     1994.0    2004.00    2010.0  \n",
       "BsmtFinSF1        383.5     712.25    5644.0  \n",
       "BsmtFinSF2          0.0       0.00    1474.0  \n",
       "BsmtUnfSF         477.5     808.00    2336.0  \n",
       "TotalBsmtSF       991.5    1298.25    6110.0  \n",
       "1stFlrSF         1087.0    1391.25    4692.0  \n",
       "2ndFlrSF            0.0     728.00    2065.0  \n",
       "LowQualFinSF        0.0       0.00     572.0  \n",
       "GrLivArea        1464.0    1776.75    5642.0  \n",
       "BsmtFullBath        0.0       1.00       3.0  \n",
       "BsmtHalfBath        0.0       0.00       2.0  \n",
       "FullBath            2.0       2.00       3.0  \n",
       "HalfBath            0.0       1.00       2.0  \n",
       "BedroomAbvGr        3.0       3.00       8.0  \n",
       "KitchenAbvGr        1.0       1.00       3.0  \n",
       "TotRmsAbvGrd        6.0       7.00      14.0  \n",
       "Fireplaces          1.0       1.00       3.0  \n",
       "GarageCars          2.0       2.00       4.0  \n",
       "GarageArea        480.0     576.00    1418.0  \n",
       "WoodDeckSF          0.0     168.00     857.0  \n",
       "OpenPorchSF        25.0      68.00     547.0  \n",
       "EnclosedPorch       0.0       0.00     552.0  \n",
       "3SsnPorch           0.0       0.00     508.0  \n",
       "ScreenPorch         0.0       0.00     480.0  \n",
       "PoolArea            0.0       0.00     738.0  \n",
       "MiscVal             0.0       0.00   15500.0  \n",
       "MoSold              6.0       8.00      12.0  \n",
       "YrSold           2008.0    2009.00    2010.0  \n",
       "SalePrice      163000.0  214000.00  755000.0  "
      ]
     },
     "execution_count": 5,
     "metadata": {},
     "output_type": "execute_result"
    }
   ],
   "source": [
    "house_numerical.describe().T"
   ]
  },
  {
   "cell_type": "code",
   "execution_count": 6,
   "metadata": {},
   "outputs": [
    {
     "data": {
      "text/html": [
       "<div>\n",
       "<style scoped>\n",
       "    .dataframe tbody tr th:only-of-type {\n",
       "        vertical-align: middle;\n",
       "    }\n",
       "\n",
       "    .dataframe tbody tr th {\n",
       "        vertical-align: top;\n",
       "    }\n",
       "\n",
       "    .dataframe thead th {\n",
       "        text-align: right;\n",
       "    }\n",
       "</style>\n",
       "<table border=\"1\" class=\"dataframe\">\n",
       "  <thead>\n",
       "    <tr style=\"text-align: right;\">\n",
       "      <th></th>\n",
       "      <th>count</th>\n",
       "      <th>unique</th>\n",
       "      <th>top</th>\n",
       "      <th>freq</th>\n",
       "    </tr>\n",
       "  </thead>\n",
       "  <tbody>\n",
       "    <tr>\n",
       "      <th>MSZoning</th>\n",
       "      <td>1460</td>\n",
       "      <td>5</td>\n",
       "      <td>RL</td>\n",
       "      <td>1151</td>\n",
       "    </tr>\n",
       "    <tr>\n",
       "      <th>Street</th>\n",
       "      <td>1460</td>\n",
       "      <td>2</td>\n",
       "      <td>Pave</td>\n",
       "      <td>1454</td>\n",
       "    </tr>\n",
       "    <tr>\n",
       "      <th>LotShape</th>\n",
       "      <td>1460</td>\n",
       "      <td>4</td>\n",
       "      <td>Reg</td>\n",
       "      <td>925</td>\n",
       "    </tr>\n",
       "    <tr>\n",
       "      <th>LandContour</th>\n",
       "      <td>1460</td>\n",
       "      <td>4</td>\n",
       "      <td>Lvl</td>\n",
       "      <td>1311</td>\n",
       "    </tr>\n",
       "    <tr>\n",
       "      <th>Utilities</th>\n",
       "      <td>1460</td>\n",
       "      <td>2</td>\n",
       "      <td>AllPub</td>\n",
       "      <td>1459</td>\n",
       "    </tr>\n",
       "    <tr>\n",
       "      <th>LotConfig</th>\n",
       "      <td>1460</td>\n",
       "      <td>5</td>\n",
       "      <td>Inside</td>\n",
       "      <td>1052</td>\n",
       "    </tr>\n",
       "    <tr>\n",
       "      <th>LandSlope</th>\n",
       "      <td>1460</td>\n",
       "      <td>3</td>\n",
       "      <td>Gtl</td>\n",
       "      <td>1382</td>\n",
       "    </tr>\n",
       "    <tr>\n",
       "      <th>Neighborhood</th>\n",
       "      <td>1460</td>\n",
       "      <td>25</td>\n",
       "      <td>NAmes</td>\n",
       "      <td>225</td>\n",
       "    </tr>\n",
       "    <tr>\n",
       "      <th>Condition1</th>\n",
       "      <td>1460</td>\n",
       "      <td>9</td>\n",
       "      <td>Norm</td>\n",
       "      <td>1260</td>\n",
       "    </tr>\n",
       "    <tr>\n",
       "      <th>Condition2</th>\n",
       "      <td>1460</td>\n",
       "      <td>8</td>\n",
       "      <td>Norm</td>\n",
       "      <td>1445</td>\n",
       "    </tr>\n",
       "    <tr>\n",
       "      <th>BldgType</th>\n",
       "      <td>1460</td>\n",
       "      <td>5</td>\n",
       "      <td>1Fam</td>\n",
       "      <td>1220</td>\n",
       "    </tr>\n",
       "    <tr>\n",
       "      <th>HouseStyle</th>\n",
       "      <td>1460</td>\n",
       "      <td>8</td>\n",
       "      <td>1Story</td>\n",
       "      <td>726</td>\n",
       "    </tr>\n",
       "    <tr>\n",
       "      <th>RoofStyle</th>\n",
       "      <td>1460</td>\n",
       "      <td>6</td>\n",
       "      <td>Gable</td>\n",
       "      <td>1141</td>\n",
       "    </tr>\n",
       "    <tr>\n",
       "      <th>RoofMatl</th>\n",
       "      <td>1460</td>\n",
       "      <td>8</td>\n",
       "      <td>CompShg</td>\n",
       "      <td>1434</td>\n",
       "    </tr>\n",
       "    <tr>\n",
       "      <th>Exterior1st</th>\n",
       "      <td>1460</td>\n",
       "      <td>15</td>\n",
       "      <td>VinylSd</td>\n",
       "      <td>515</td>\n",
       "    </tr>\n",
       "    <tr>\n",
       "      <th>Exterior2nd</th>\n",
       "      <td>1460</td>\n",
       "      <td>16</td>\n",
       "      <td>VinylSd</td>\n",
       "      <td>504</td>\n",
       "    </tr>\n",
       "    <tr>\n",
       "      <th>ExterQual</th>\n",
       "      <td>1460</td>\n",
       "      <td>4</td>\n",
       "      <td>TA</td>\n",
       "      <td>906</td>\n",
       "    </tr>\n",
       "    <tr>\n",
       "      <th>ExterCond</th>\n",
       "      <td>1460</td>\n",
       "      <td>5</td>\n",
       "      <td>TA</td>\n",
       "      <td>1282</td>\n",
       "    </tr>\n",
       "    <tr>\n",
       "      <th>Foundation</th>\n",
       "      <td>1460</td>\n",
       "      <td>6</td>\n",
       "      <td>PConc</td>\n",
       "      <td>647</td>\n",
       "    </tr>\n",
       "    <tr>\n",
       "      <th>Heating</th>\n",
       "      <td>1460</td>\n",
       "      <td>6</td>\n",
       "      <td>GasA</td>\n",
       "      <td>1428</td>\n",
       "    </tr>\n",
       "    <tr>\n",
       "      <th>HeatingQC</th>\n",
       "      <td>1460</td>\n",
       "      <td>5</td>\n",
       "      <td>Ex</td>\n",
       "      <td>741</td>\n",
       "    </tr>\n",
       "    <tr>\n",
       "      <th>CentralAir</th>\n",
       "      <td>1460</td>\n",
       "      <td>2</td>\n",
       "      <td>Y</td>\n",
       "      <td>1365</td>\n",
       "    </tr>\n",
       "    <tr>\n",
       "      <th>KitchenQual</th>\n",
       "      <td>1460</td>\n",
       "      <td>4</td>\n",
       "      <td>TA</td>\n",
       "      <td>735</td>\n",
       "    </tr>\n",
       "    <tr>\n",
       "      <th>Functional</th>\n",
       "      <td>1460</td>\n",
       "      <td>7</td>\n",
       "      <td>Typ</td>\n",
       "      <td>1360</td>\n",
       "    </tr>\n",
       "    <tr>\n",
       "      <th>PavedDrive</th>\n",
       "      <td>1460</td>\n",
       "      <td>3</td>\n",
       "      <td>Y</td>\n",
       "      <td>1340</td>\n",
       "    </tr>\n",
       "    <tr>\n",
       "      <th>SaleType</th>\n",
       "      <td>1460</td>\n",
       "      <td>9</td>\n",
       "      <td>WD</td>\n",
       "      <td>1267</td>\n",
       "    </tr>\n",
       "    <tr>\n",
       "      <th>SaleCondition</th>\n",
       "      <td>1460</td>\n",
       "      <td>6</td>\n",
       "      <td>Normal</td>\n",
       "      <td>1198</td>\n",
       "    </tr>\n",
       "  </tbody>\n",
       "</table>\n",
       "</div>"
      ],
      "text/plain": [
       "              count unique      top  freq\n",
       "MSZoning       1460      5       RL  1151\n",
       "Street         1460      2     Pave  1454\n",
       "LotShape       1460      4      Reg   925\n",
       "LandContour    1460      4      Lvl  1311\n",
       "Utilities      1460      2   AllPub  1459\n",
       "LotConfig      1460      5   Inside  1052\n",
       "LandSlope      1460      3      Gtl  1382\n",
       "Neighborhood   1460     25    NAmes   225\n",
       "Condition1     1460      9     Norm  1260\n",
       "Condition2     1460      8     Norm  1445\n",
       "BldgType       1460      5     1Fam  1220\n",
       "HouseStyle     1460      8   1Story   726\n",
       "RoofStyle      1460      6    Gable  1141\n",
       "RoofMatl       1460      8  CompShg  1434\n",
       "Exterior1st    1460     15  VinylSd   515\n",
       "Exterior2nd    1460     16  VinylSd   504\n",
       "ExterQual      1460      4       TA   906\n",
       "ExterCond      1460      5       TA  1282\n",
       "Foundation     1460      6    PConc   647\n",
       "Heating        1460      6     GasA  1428\n",
       "HeatingQC      1460      5       Ex   741\n",
       "CentralAir     1460      2        Y  1365\n",
       "KitchenQual    1460      4       TA   735\n",
       "Functional     1460      7      Typ  1360\n",
       "PavedDrive     1460      3        Y  1340\n",
       "SaleType       1460      9       WD  1267\n",
       "SaleCondition  1460      6   Normal  1198"
      ]
     },
     "execution_count": 6,
     "metadata": {},
     "output_type": "execute_result"
    }
   ],
   "source": [
    "house_categorical.describe().T"
   ]
  },
  {
   "cell_type": "markdown",
   "metadata": {
    "id": "b8p7K8uLMUaA"
   },
   "source": [
    "# 1D Visualization "
   ]
  },
  {
   "cell_type": "markdown",
   "metadata": {
    "id": "d6fIqr1OXHv1"
   },
   "source": [
    "## Soal 1\n",
    "\n",
    "1. Buatlah visualisasi barplot dan analisis untuk variabel kategorikal:\n",
    "    * `Utilities`\n",
    "    * `HouseStyle`\n",
    "    * `ExterQual` \n",
    "\n",
    "2. Buatlah visualisasi histogram dan analisis untuk variabel numerikal:\n",
    "    * `SalePrice`\n",
    "    * `GrLivArea`\n",
    "    * `PoolArea`\n",
    "\n",
    "3. Terapkan pemrosesan data yang sesuai untuk masing-masing variabel dan tulis penjelasan serta analisisnya!"
   ]
  },
  {
   "cell_type": "markdown",
   "metadata": {
    "id": "frBp37XBcO8q"
   },
   "source": [
    "## Variabel Kategorikal"
   ]
  },
  {
   "cell_type": "markdown",
   "metadata": {
    "id": "jFuLyJZWXCKa"
   },
   "source": [
    "### Utilities\n",
    "\n",
    "* `Utilities` berisi informasi mengenai fasilitas apa saja yang tersedia di properti tersebut\n",
    "\t\t\n",
    "       AllPub\tAll public Utilities (E,G,W,& S)\t\n",
    "       NoSeWa\tElectricity and Gas Only\t"
   ]
  },
  {
   "cell_type": "code",
   "execution_count": 7,
   "metadata": {
    "colab": {
     "base_uri": "https://localhost:8080/",
     "height": 282
    },
    "executionInfo": {
     "elapsed": 1019,
     "status": "ok",
     "timestamp": 1605878291900,
     "user": {
      "displayName": "Nikita Setyagar",
      "photoUrl": "",
      "userId": "11963739043015391724"
     },
     "user_tz": -420
    },
    "id": "GEDKOx1zTBEf",
    "outputId": "bf84b456-8c4e-461e-b77a-fce02654f545"
   },
   "outputs": [
    {
     "data": {
      "image/png": "[encoded data removed]",
      "text/plain": [
       "<Figure size 432x288 with 1 Axes>"
      ]
     },
     "metadata": {
      "needs_background": "light"
     },
     "output_type": "display_data"
    }
   ],
   "source": [
    "### Tulis kode Anda di sini\n",
    "\n",
    "sns.barplot(x=house_categorical.Utilities.value_counts().index,\n",
    "            y=house_categorical.Utilities.value_counts())\n",
    "plt.show()"
   ]
  },
  {
   "cell_type": "markdown",
   "metadata": {
    "id": "vj3PeefjPdzH"
   },
   "source": [
    "### HouseStyle\n",
    "\n",
    "HouseStyle: Style properti (misal: 1 lantai, 2 lantai, dst)\n",
    "\t\n",
    "       1Story\tOne story\n",
    "       1.5Fin\tOne and one-half story: 2nd level finished\n",
    "       1.5Unf\tOne and one-half story: 2nd level unfinished\n",
    "       2Story\tTwo story\n",
    "       2.5Fin\tTwo and one-half story: 2nd level finished\n",
    "       2.5Unf\tTwo and one-half story: 2nd level unfinished\n",
    "       SFoyer\tSplit Foyer\n",
    "       SLvl\tSplit Level"
   ]
  },
  {
   "cell_type": "code",
   "execution_count": 8,
   "metadata": {
    "colab": {
     "base_uri": "https://localhost:8080/",
     "height": 282
    },
    "executionInfo": {
     "elapsed": 1960,
     "status": "ok",
     "timestamp": 1605878364690,
     "user": {
      "displayName": "Nikita Setyagar",
      "photoUrl": "",
      "userId": "11963739043015391724"
     },
     "user_tz": -420
    },
    "id": "Gj6sQNFPR1yy",
    "outputId": "70a9ad19-0dbc-43e5-cd27-45170c22653d"
   },
   "outputs": [
    {
     "data": {
      "image/png": "[encoded data removed]",
      "text/plain": [
       "<Figure size 432x288 with 1 Axes>"
      ]
     },
     "metadata": {
      "needs_background": "light"
     },
     "output_type": "display_data"
    }
   ],
   "source": [
    "### Tulis kode Anda di sini\n",
    "\n",
    "sns.barplot(x=house_categorical.HouseStyle.value_counts().index,\n",
    "            y=house_categorical.HouseStyle.value_counts())\n",
    "plt.show()"
   ]
  },
  {
   "cell_type": "markdown",
   "metadata": {
    "id": "f0sOAGmBXchv"
   },
   "source": [
    "### ExterQual\n",
    "\n",
    "ExterQual: Kualitas material eksterior \n",
    "\t\t\n",
    "       Ex\tExcellent\n",
    "       Gd\tGood\n",
    "       TA\tAverage/Typical\n",
    "       Fa\tFair"
   ]
  },
  {
   "cell_type": "code",
   "execution_count": 9,
   "metadata": {
    "colab": {
     "base_uri": "https://localhost:8080/",
     "height": 282
    },
    "executionInfo": {
     "elapsed": 2129,
     "status": "ok",
     "timestamp": 1605874123883,
     "user": {
      "displayName": "Nikita Setyagar",
      "photoUrl": "",
      "userId": "11963739043015391724"
     },
     "user_tz": -420
    },
    "id": "8Ot8pCm6URga",
    "outputId": "4d9c3e5f-f8f0-4df9-dd63-8ffb0a6dc5c3"
   },
   "outputs": [
    {
     "data": {
      "image/png": "[encoded data removed]",
      "text/plain": [
       "<Figure size 432x288 with 1 Axes>"
      ]
     },
     "metadata": {
      "needs_background": "light"
     },
     "output_type": "display_data"
    }
   ],
   "source": [
    "### Tulis kode Anda di sini\n",
    "\n",
    "sns.barplot(x=house_categorical.ExterQual.value_counts().index,\n",
    "            y=house_categorical.ExterQual.value_counts())\n",
    "plt.show()"
   ]
  },
  {
   "cell_type": "markdown",
   "metadata": {
    "id": "DQguvJ0wkglw"
   },
   "source": [
    "#### **Analisis tentang variabel kategorikal**\n",
    "\n",
    "   * Lebih banyak jumlah rumah dengan `Utilities` AllPub (air, listrik, gas, dan pembuangan air) dibandingkan dengan rumah yang hanya memiliki fasilitas listrik dan gas atau NoSeWa\n",
    "   * Jumlah dengan `HouseStyle` terbanyak ditemukan pada 1Story, lalu diikuti dengan 2Story, 1.5Fin, SLvl, SFoyer, 1.5Unf, 2.5Unf, dan 2.5Fin\n",
    "   * Jumlah dengan `ExterQuality` terbanyak terdapat pada TA, Gd, Ex, dan Fa"
   ]
  },
  {
   "cell_type": "markdown",
   "metadata": {
    "id": "xZ5WZlO4cf3V"
   },
   "source": [
    "## Variabel Numerikal"
   ]
  },
  {
   "cell_type": "markdown",
   "metadata": {
    "id": "B6WqUYdqdDtD"
   },
   "source": [
    "### SalePrice\n",
    "\n",
    "* SalePrice merupakan variabel target yang ingin diprediksi\n",
    "* Secara fisik, ini berarti harga properti yang dijual"
   ]
  },
  {
   "cell_type": "code",
   "execution_count": 10,
   "metadata": {},
   "outputs": [
    {
     "name": "stdout",
     "output_type": "stream",
     "text": [
      "Mean: 180921.19589041095\n",
      "Median: 163000.0\n",
      "Std Dev: 79442.50288288663\n"
     ]
    },
    {
     "data": {
      "image/png": "[encoded data removed]",
      "text/plain": [
       "<Figure size 432x288 with 1 Axes>"
      ]
     },
     "metadata": {
      "needs_background": "light"
     },
     "output_type": "display_data"
    }
   ],
   "source": [
    "### Tulis kode Anda di sini\n",
    "\n",
    "print('Mean:', house_numerical['SalePrice'].mean())\n",
    "print('Median:', np.median(house_numerical['SalePrice']))\n",
    "print('Std Dev:', house_numerical['SalePrice'].std())\n",
    "\n",
    "sns.distplot(house_numerical['SalePrice'], axlabel='SalePrice')\n",
    "\n",
    "line1 = plt.axvline(house_numerical['SalePrice'].mean(), color='b', linestyle='--', label='mean')\n",
    "line2 = plt.axvline(np.median(house_numerical['SalePrice']), color='r', linestyle='--', label='median')\n",
    "\n",
    "first_legend = plt.legend(handles=[line1, line2], loc=1)\n",
    "plt.show()"
   ]
  },
  {
   "cell_type": "markdown",
   "metadata": {
    "id": "XrVzyBQFl2MI"
   },
   "source": [
    "#### **Analisis tentang variabel `SalePrice`**\n",
    "\n",
    "* Bentuk grafik *skewed right* dikarenakan adanya *outlier* atau lebarnya rentang harga rumah\n",
    "* Nilai *median* dan *mean* dari `SalePrice` tidak jauh berbeda\n",
    "* Rumah dengan rentang harga antara 100000-200000 memiliki jumlah terbanyak\n",
    "* Standar deviasi yang besar menjelaskan menyebarnya rentang data `SalePrice`"
   ]
  },
  {
   "cell_type": "markdown",
   "metadata": {
    "id": "wWdqDOgScimy"
   },
   "source": [
    "### GrLivArea\n",
    "\n",
    "* GrLivArea berisi informasi mengenai luas area tinggal di atas permukaan tanah (tidak termasuk basement)\n",
    "* Satuan yang digunakan adalah *square feet*"
   ]
  },
  {
   "cell_type": "code",
   "execution_count": 57,
   "metadata": {
    "colab": {
     "base_uri": "https://localhost:8080/",
     "height": 330
    },
    "executionInfo": {
     "elapsed": 2501,
     "status": "ok",
     "timestamp": 1605872379060,
     "user": {
      "displayName": "Nikita Setyagar",
      "photoUrl": "",
      "userId": "11963739043015391724"
     },
     "user_tz": -420
    },
    "id": "Xpw30InEcwrg",
    "outputId": "5a4dc318-1feb-4457-c009-6f3bddd6bcce"
   },
   "outputs": [
    {
     "name": "stdout",
     "output_type": "stream",
     "text": [
      "Mean: 1515.463698630137\n",
      "Median: 1464.0\n",
      "Std Dev: 525.4803834232027\n"
     ]
    },
    {
     "data": {
      "image/png": "[encoded data removed]",
      "text/plain": [
       "<Figure size 432x288 with 1 Axes>"
      ]
     },
     "metadata": {
      "needs_background": "light"
     },
     "output_type": "display_data"
    }
   ],
   "source": [
    "### Tulis kode Anda di sini\n",
    "\n",
    "print('Mean:', house_numerical['GrLivArea'].mean())\n",
    "print('Median:', np.median(house_numerical['GrLivArea']))\n",
    "print('Std Dev:', house_numerical['GrLivArea'].std())\n",
    "\n",
    "sns.distplot(house_numerical['GrLivArea'], axlabel='GrLivArea')\n",
    "\n",
    "line1 = plt.axvline(house_numerical['GrLivArea'].mean(), color='b', linestyle='--', label='mean')\n",
    "line2 = plt.axvline(np.median(house_numerical['GrLivArea']), color='r', linestyle='--', label='median')\n",
    "\n",
    "first_legend = plt.legend(handles=[line1, line2], loc=1)\n",
    "plt.show()"
   ]
  },
  {
   "cell_type": "markdown",
   "metadata": {
    "id": "r2SK2uRzl5Q8"
   },
   "source": [
    "#### **Analisis tentang variabel `GrlivArea`**\n",
    "\n",
    "* Bentuk grafik *skewed right* dikarenakan adanya *outlier* atau lebarnya luas area tinggal\n",
    "* Nilai *median* dan *mean* dari `GrlivArea` tidak jauh berbeda\n",
    "* Luas area tinggal dengan jumlah terbanyak berada pada rentang 1000-1500 *square feet*\n",
    "* Standar deviasi yang lumayan kecil menjelaskan menyebarnya rentang data `GrlivArea`"
   ]
  },
  {
   "cell_type": "markdown",
   "metadata": {
    "id": "FDN9gtdtl-6f"
   },
   "source": [
    "### GarageArea\n",
    "\n",
    "* GarageArea berisi informasi mengenai luas garasi (jika ada)\n",
    "* Satuan yang digunakan adalah *square feet*"
   ]
  },
  {
   "cell_type": "code",
   "execution_count": 58,
   "metadata": {
    "colab": {
     "base_uri": "https://localhost:8080/",
     "height": 330
    },
    "executionInfo": {
     "elapsed": 3594,
     "status": "ok",
     "timestamp": 1605876835546,
     "user": {
      "displayName": "Nikita Setyagar",
      "photoUrl": "",
      "userId": "11963739043015391724"
     },
     "user_tz": -420
    },
    "id": "A_hGXgvGmj7x",
    "outputId": "5616c676-c283-475f-d6cc-5ba684df5ad6"
   },
   "outputs": [
    {
     "name": "stdout",
     "output_type": "stream",
     "text": [
      "Mean: 472.9801369863014\n",
      "Median: 480.0\n",
      "Std Dev: 213.80484145338076\n"
     ]
    },
    {
     "data": {
      "image/png": "[encoded data removed]",
      "text/plain": [
       "<Figure size 432x288 with 1 Axes>"
      ]
     },
     "metadata": {
      "needs_background": "light"
     },
     "output_type": "display_data"
    }
   ],
   "source": [
    "### Tulis kode Anda di sini\n",
    "\n",
    "print('Mean:', house_numerical['GarageArea'].mean())\n",
    "print('Median:', np.median(house_numerical['GarageArea']))\n",
    "print('Std Dev:', house_numerical['GarageArea'].std())\n",
    "\n",
    "sns.distplot(house_numerical['GarageArea'], axlabel='GarageArea')\n",
    "\n",
    "line1 = plt.axvline(house_numerical['GarageArea'].mean(), color='b', linestyle='--', label='mean')\n",
    "line2 = plt.axvline(np.median(house_numerical['GarageArea']), color='r', linestyle='--', label='median')\n",
    "\n",
    "first_legend = plt.legend(handles=[line1, line2], loc=1)\n",
    "plt.show()"
   ]
  },
  {
   "cell_type": "markdown",
   "metadata": {
    "id": "Zr0u5NO9muLB"
   },
   "source": [
    "#### **Analisis tentang variabel `GarageArea`**\n",
    "\n",
    "* Bentuk grafik *bimodal* dikarenakan adanya rumah yang tidak memiliki area garasi\n",
    "* Nilai *median* dan *mean* dari `GarageArea` tidak jauh berbeda yang menyebabkan garis berhimpitan\n",
    "* Luas garasi dengan jumlah terbanyak berada pada rentang 400-600 *square feet*"
   ]
  },
  {
   "cell_type": "markdown",
   "metadata": {
    "id": "Z3fIQpAonsjw"
   },
   "source": [
    "## Pemrosesan Data"
   ]
  },
  {
   "cell_type": "code",
   "execution_count": 17,
   "metadata": {
    "colab": {
     "base_uri": "https://localhost:8080/",
     "height": 330
    },
    "executionInfo": {
     "elapsed": 2650,
     "status": "ok",
     "timestamp": 1605877584437,
     "user": {
      "displayName": "Nikita Setyagar",
      "photoUrl": "",
      "userId": "11963739043015391724"
     },
     "user_tz": -420
    },
    "id": "p5H_MyMasJOM",
    "outputId": "361b1b25-75e7-4b97-eef9-a7a952dbc219"
   },
   "outputs": [
    {
     "name": "stdout",
     "output_type": "stream",
     "text": [
      "Mean: 5.257489449773029\n",
      "Median: 5.212187604403958\n",
      "Std Dev: 4.9000529184065496\n"
     ]
    },
    {
     "data": {
      "image/png": "[encoded data removed]",
      "text/plain": [
       "<Figure size 432x288 with 1 Axes>"
      ]
     },
     "metadata": {
      "needs_background": "light"
     },
     "output_type": "display_data"
    }
   ],
   "source": [
    "# Transformasi log-10 SalePrice\n",
    "\n",
    "### Tulis kode Anda di sini\n",
    "\n",
    "print('Mean:', np.log10(house_numerical['SalePrice'].mean()))\n",
    "print('Median:', np.log10(np.median(house_numerical['SalePrice'])))\n",
    "print('Std Dev:', np.log10(house_numerical['SalePrice'].std()))\n",
    "\n",
    "sns.distplot(np.log10(house_numerical['SalePrice']), axlabel='SalePrice')\n",
    "\n",
    "line1 = plt.axvline(np.log10(house_numerical['SalePrice'].mean()), color='b', linestyle='--', label='mean')\n",
    "line2 = plt.axvline(np.log10(np.median(house_numerical['SalePrice'])), color='r', linestyle='--', label='median')\n",
    "\n",
    "first_legend = plt.legend(handles=[line1, line2], loc=1)\n",
    "plt.show()"
   ]
  },
  {
   "cell_type": "code",
   "execution_count": 26,
   "metadata": {
    "colab": {
     "base_uri": "https://localhost:8080/",
     "height": 330
    },
    "executionInfo": {
     "elapsed": 1953,
     "status": "ok",
     "timestamp": 1605877588090,
     "user": {
      "displayName": "Nikita Setyagar",
      "photoUrl": "",
      "userId": "11963739043015391724"
     },
     "user_tz": -420
    },
    "id": "dHLX1hLywxSq",
    "outputId": "0a6806ce-13b6-469b-ed45-acf3dff63592"
   },
   "outputs": [
    {
     "name": "stdout",
     "output_type": "stream",
     "text": [
      "Mean: 3.1563543103897764\n",
      "Median: 3.165541076722373\n",
      "Std Dev: 2.720556508128158\n"
     ]
    },
    {
     "data": {
      "image/png": "[encoded data removed]",
      "text/plain": [
       "<Figure size 432x288 with 1 Axes>"
      ]
     },
     "metadata": {
      "needs_background": "light"
     },
     "output_type": "display_data"
    }
   ],
   "source": [
    "# Transformasi log-10 GrLivArea\n",
    "\n",
    "### Tulis kode Anda di sini\n",
    "\n",
    "print('Mean:', np.log10(house_numerical['GrLivArea']).mean())\n",
    "print('Median:', np.log10(np.median(house_numerical['GrLivArea'])))\n",
    "print('Std Dev:', np.log10(house_numerical['GrLivArea'].std()))\n",
    "\n",
    "sns.distplot(np.log10(house_numerical['GrLivArea']), axlabel='GrLivArea')\n",
    "\n",
    "line1 = plt.axvline(np.log10(house_numerical['GrLivArea'].mean()), color='b', linestyle='--', label='mean')\n",
    "line2 = plt.axvline(np.log10(np.median(house_numerical['GrLivArea'])), color='r', linestyle='--', label='median')\n",
    "\n",
    "first_legend = plt.legend(handles=[line1, line2], loc=1)\n",
    "\n",
    "plt.show()"
   ]
  },
  {
   "cell_type": "code",
   "execution_count": 38,
   "metadata": {
    "colab": {
     "base_uri": "https://localhost:8080/",
     "height": 330
    },
    "executionInfo": {
     "elapsed": 1549,
     "status": "ok",
     "timestamp": 1605877661134,
     "user": {
      "displayName": "Nikita Setyagar",
      "photoUrl": "",
      "userId": "11963739043015391724"
     },
     "user_tz": -420
    },
    "id": "Ax4xIW0Jw4AB",
    "outputId": "a6c93646-813e-4d89-944c-b4d326440b92"
   },
   "outputs": [
    {
     "name": "stdout",
     "output_type": "stream",
     "text": [
      "Mean: 500.76214648295866\n",
      "Median: 484.0\n",
      "Std Dev: 185.68051979433156\n"
     ]
    },
    {
     "data": {
      "image/png": "[encoded data removed]",
      "text/plain": [
       "<Figure size 432x288 with 1 Axes>"
      ]
     },
     "metadata": {
      "needs_background": "light"
     },
     "output_type": "display_data"
    }
   ],
   "source": [
    "# Menghilangkan nilai nol pada GarageArea\n",
    "\n",
    "### Tulis kode Anda di sini\n",
    "\n",
    "house_num = house_numerical[house_numerical != 0]\n",
    "\n",
    "print('Mean:', house_num['GarageArea'].mean())\n",
    "print('Median:', house_num.GarageArea.median())\n",
    "print('Std Dev:', house_num['GarageArea'].std())\n",
    "\n",
    "sns.distplot(house_num['GarageArea'], axlabel='GarageArea')\n",
    "\n",
    "line1 = plt.axvline(house_num['GarageArea'].mean(), color='b', linestyle='--', label='mean')\n",
    "line2 = plt.axvline(house_num.GarageArea.median(), color='r', linestyle='--', label='median')\n",
    "\n",
    "#plt.xlim([0,1600])\n",
    "first_legend = plt.legend(handles=[line1, line2], loc=1)\n",
    "plt.show()"
   ]
  },
  {
   "cell_type": "markdown",
   "metadata": {
    "id": "j_iVINnexJE-"
   },
   "source": [
    "#### **Penjelasan dan analisis tentang pemrosesan data**\n",
    "\n",
    "* Pada `SalePrice` dan `GrLivArea` diperlukan transformasi log10 dikarenakan angka yang terlalu besar\n",
    "* Setelah transformasi, grafik `SalePrice` dan `GrLivArea` tidak terlalu *skewed*\n",
    "* Standar deviasi yang dihasilkan `SalePrice` dan `GrLivArea` kecil sehingga nilai *mean* dan *median* tidak jauh berbeda\n",
    "* Menghilangkan nilai 0 pada grafik `GarageArea` dapat menghilangkan puncak grafik *bimodal*"
   ]
  },
  {
   "cell_type": "markdown",
   "metadata": {
    "id": "-o3wBffm0gAF"
   },
   "source": [
    "# 2D Visualization"
   ]
  },
  {
   "cell_type": "markdown",
   "metadata": {
    "id": "CGbJRSE60nbE"
   },
   "source": [
    "## Soal 2\n",
    "\n",
    "1. Buat visualisasi tentang hubungan antara:\n",
    "    * `GrLivArea` dengan `SalePrice`\n",
    "    * `GarageArea` dengan `SalePrice`\n",
    "\n",
    "2. Buat hipotesis Anda tentang hubungan antar-variabel"
   ]
  },
  {
   "cell_type": "code",
   "execution_count": 39,
   "metadata": {
    "colab": {
     "base_uri": "https://localhost:8080/",
     "height": 279
    },
    "executionInfo": {
     "elapsed": 10688,
     "status": "ok",
     "timestamp": 1605879019634,
     "user": {
      "displayName": "Nikita Setyagar",
      "photoUrl": "",
      "userId": "11963739043015391724"
     },
     "user_tz": -420
    },
    "id": "vJtwKTfG1q0R",
    "outputId": "894c4cce-6207-42e6-bff7-95230d0b96fe"
   },
   "outputs": [
    {
     "data": {
      "image/png": "[encoded data removed]",
      "text/plain": [
       "<Figure size 432x288 with 1 Axes>"
      ]
     },
     "metadata": {
      "needs_background": "light"
     },
     "output_type": "display_data"
    }
   ],
   "source": [
    "ax = sns.scatterplot(house_numerical['GrLivArea'],house_numerical['SalePrice'])"
   ]
  },
  {
   "cell_type": "code",
   "execution_count": 40,
   "metadata": {
    "colab": {
     "base_uri": "https://localhost:8080/",
     "height": 279
    },
    "executionInfo": {
     "elapsed": 1455,
     "status": "ok",
     "timestamp": 1605880736535,
     "user": {
      "displayName": "Nikita Setyagar",
      "photoUrl": "",
      "userId": "11963739043015391724"
     },
     "user_tz": -420
    },
    "id": "m6VY0FnE8yJk",
    "outputId": "80ff3a98-d7e7-4ca8-e027-7a41f5fa5cac"
   },
   "outputs": [
    {
     "data": {
      "image/png": "[encoded data removed]",
      "text/plain": [
       "<Figure size 432x288 with 1 Axes>"
      ]
     },
     "metadata": {
      "needs_background": "light"
     },
     "output_type": "display_data"
    }
   ],
   "source": [
    "ax = sns.scatterplot(house_numerical['GarageArea'],house_numerical['SalePrice'])"
   ]
  },
  {
   "cell_type": "markdown",
   "metadata": {
    "id": "8oQ1SFo287ix"
   },
   "source": [
    "#### **Hipotesis tentang hubungan antar-variabel**\n",
    "\n",
    "* Semakin besar luas area tinggal, harga rumah semakin tinggi\n",
    "* Semakin tinggi luas garasi, harga rumah semakin tinggi"
   ]
  }
 ],
 "metadata": {
  "colab": {
   "collapsed_sections": [],
   "name": "Tugas 4.ipynb",
   "provenance": [],
   "toc_visible": true
  },
  "kernelspec": {
   "display_name": "Python 3",
   "language": "python",
   "name": "python3"
  },
  "language_info": {
   "codemirror_mode": {
    "name": "ipython",
    "version": 3
   },
   "file_extension": ".py",
   "mimetype": "text/x-python",
   "name": "python",
   "nbconvert_exporter": "python",
   "pygments_lexer": "ipython3",
   "version": "3.8.5"
  }
 },
 "nbformat": 4,
 "nbformat_minor": 4
}
